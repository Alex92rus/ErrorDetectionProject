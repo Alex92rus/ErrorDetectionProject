{
 "cells": [
  {
   "cell_type": "code",
   "execution_count": 12,
   "metadata": {
    "collapsed": false
   },
   "outputs": [
    {
     "name": "stdout",
     "output_type": "stream",
     "text": [
      "1319\n"
     ]
    },
    {
     "data": {
      "image/png": "[encoded data removed]",
      "text/plain": [
       "<matplotlib.figure.Figure at 0x7fa853eb3e10>"
      ]
     },
     "metadata": {},
     "output_type": "display_data"
    },
    {
     "name": "stdout",
     "output_type": "stream",
     "text": [
      "defaultdict(<class 'int'>, {(0, 1): 373, (1, 0): 282, (0, 0): 138, (1, 1): 526})\n"
     ]
    }
   ],
   "source": [
    "from collections import defaultdict\n",
    "import csv\n",
    "import fce_api as fd\n",
    "import itertools\n",
    "import json\n",
    "import matplotlib.pyplot as plt\n",
    "import numpy as np\n",
    "import pandas as pd\n",
    "import settings\n",
    "\n",
    "\n",
    "def full_evaluation_table(confusion_matrix, classes=[]):\n",
    "    \"\"\"\n",
    "    Produce a pandas data-frame with Precision, F1 and Recall for all labels.\n",
    "    Args:\n",
    "        confusion_matrix: the confusion matrix to calculate metrics from.\n",
    "        classes: the categories of the confusion matrix\n",
    "        \n",
    "    Returns:\n",
    "        a pandas Dataframe with one row per gold label, and one more row for the aggregate of all labels.\n",
    "    \"\"\"\n",
    "    labels = sorted(list({l for l, _ in confusion_matrix.keys()} | {l for _, l in confusion_matrix.keys()}))\n",
    "    gold_counts = defaultdict(int)\n",
    "    guess_counts = defaultdict(int)\n",
    "    for (gold_label, guess_label), count in confusion_matrix.items():\n",
    "        if gold_label != \"None\":\n",
    "            gold_counts[gold_label] += count\n",
    "            gold_counts[\"[All]\"] += count\n",
    "        if guess_label != \"None\":\n",
    "            guess_counts[guess_label] += count\n",
    "            guess_counts[\"[All]\"] += count\n",
    "\n",
    "    result_table = []\n",
    "    for label in labels:\n",
    "        if label != \"None\":\n",
    "            if len(classes) == len(labels):\n",
    "                result_table.append((classes[label], gold_counts[label], guess_counts[label], *evaluate(confusion_matrix, {label})))\n",
    "            else:\n",
    "                result_table.append((label, gold_counts[label], guess_counts[label], *evaluate(confusion_matrix, {label})))\n",
    "    result_table.append((\"[All]\", gold_counts[\"[All]\"], guess_counts[\"[All]\"], *evaluate(confusion_matrix)))\n",
    "    return pd.DataFrame(result_table, columns=('Label', 'Gold', 'Guess', 'Precision', 'Recall', 'F1'))\n",
    "\n",
    "\n",
    "def evaluate(conf_matrix, label_filter=None):\n",
    "    \"\"\"\n",
    "    Evaluate Precision, Recall and F1 based on a confusion matrix as produced by `create_confusion_matrix`.\n",
    "    Args:\n",
    "        conf_matrix: a confusion matrix in form of a dictionary from `(gold_label,guess_label)` pairs to counts.\n",
    "        label_filter: a set of gold labels to consider. If set to `None` all labels are considered.\n",
    "\n",
    "    Returns:\n",
    "        Precision, Recall, F1 triple.\n",
    "    \"\"\"\n",
    "    tp = 0\n",
    "    tn = 0\n",
    "    fp = 0\n",
    "    fn = 0\n",
    "    for (gold, guess), count in conf_matrix.items():\n",
    "        if label_filter is None or gold in label_filter or guess in label_filter:\n",
    "            if gold == 'None' and guess != gold:\n",
    "                fp += count\n",
    "            elif gold == 'None' and guess == gold:\n",
    "                tn += count\n",
    "            elif gold != 'None' and guess == gold:\n",
    "                tp += count\n",
    "            elif gold != 'None' and guess == 'None':\n",
    "                fn += count\n",
    "            else:  # both gold and guess are not-None, but different\n",
    "                fp += count if label_filter is None or guess in label_filter else 0\n",
    "                fn += count if label_filter is None or gold in label_filter else 0\n",
    "    prec = tp / (tp + fp) if (tp + fp) > 0 else 0.0\n",
    "    recall = tp / (tp + fn) if (tp + fn) > 0 else 0.0\n",
    "    f1 = 2 * prec * recall / (prec + recall) if prec * recall > 0 else 0.0\n",
    "    return prec, recall, f1\n",
    "\n",
    "# if the number of annotations is at least number judgements\n",
    "def test_annotation_dict(annot_dict, judgements):\n",
    "    for key in annot_dict.keys():\n",
    "        if len(annot_dict[key]) < judgements:\n",
    "            return False\n",
    "    return True\n",
    "\n",
    "# create the confusion matrix\n",
    "def create_confusion_matrix(data, predictions):\n",
    "    \"\"\"\n",
    "    Produces a confusion matrix in a form of a dictionary from (gold_label,guess_label)` pairs to counts.\n",
    "    Args:\n",
    "        data: list containing the gold labels.\n",
    "        predictions: list containing the prediction labels\n",
    "\n",
    "    Returns:\n",
    "        confusion matrix in form of dictionary with counts for (gold_label, guess_label)\n",
    "    \"\"\"\n",
    "    confusion = defaultdict(int)\n",
    "    for y_gold, y_guess in zip(data, predictions):\n",
    "        confusion[(y_gold, y_guess)] += 1\n",
    "    return confusion\n",
    "\n",
    "# plot the confusion matrix\n",
    "def plot_confusion_matrix_dict(matrix_dict, classes=[], rotation=45, outside_label=''):\n",
    "    labels = set([y for y, _ in matrix_dict.keys()] + [y for _, y in matrix_dict.keys()])\n",
    "    sorted_labels = sorted(labels, key=lambda x: -x)\n",
    "    matrix = np.zeros((len(sorted_labels), len(sorted_labels)))\n",
    "    for i1, y1 in enumerate(sorted_labels):\n",
    "        for i2, y2 in enumerate(sorted_labels):\n",
    "            if y1 != outside_label or y2 != outside_label:\n",
    "                matrix[i1, i2] = matrix_dict[y1, y2]\n",
    "\n",
    "    threshold = matrix.max() / 2.\n",
    "    for i, j in itertools.product(range(matrix.shape[0]), range(matrix.shape[1])):\n",
    "        plt.text(j, i, matrix[i, j],\n",
    "                 horizontalalignment=\"center\",\n",
    "                 color=\"white\" if matrix[i, j] > threshold else \"black\")\n",
    "\n",
    "    plt.imshow(matrix, interpolation='nearest', cmap=plt.cm.Blues)\n",
    "    plt.colorbar()\n",
    "    if (len(classes) != len(sorted_labels)):\n",
    "        classes = sorted_labels\n",
    "        SMALL_SIZE = 14\n",
    "#     MEDIUM_SIZE = 15\n",
    "#     BIGGER_SIZE = 20\n",
    "        plt.rc('font', size=SMALL_SIZE)          # controls default text sizes\n",
    "#     plt.rc('axes', titlesize=SMALL_SIZE)     # fontsize of the axes title\n",
    "#     plt.rc('axes', labelsize=MEDIUM_SIZE)    # fontsize of the x and y labels\n",
    "        plt.rc('xtick', labelsize=SMALL_SIZE)    # fontsize of the tick labels\n",
    "#     plt.rc('ytick', labelsize=SMALL_SIZE)    # fontsize of the tick labels\n",
    "#     plt.rc('legend', fontsize=SMALL_SIZE)    # legend fontsize\n",
    "#     plt.rc('figure', titlesize=BIGGER_SIZE)  # fontsize of the figure title\n",
    "    tick_marks = np.arange(len(classes))\n",
    "    plt.xticks(tick_marks, classes, rotation=rotation)\n",
    "    plt.yticks(tick_marks, classes)\n",
    "    plt.xlabel('predicted labels')\n",
    "    plt.ylabel('gold labels')\n",
    "    fig_size = (5, 5)\n",
    "    plt.rcParams[\"figure.figsize\"] = fig_size\n",
    "    plt.tight_layout()\n",
    "    plt.show()\n",
    "\n",
    "# extracts the amt_sentences along with their errors\n",
    "def extract_sentences_with_errors():\n",
    "    # open source file\n",
    "    with open(settings.TRAINING_DATA_FILE, 'r') as file:\n",
    "        # read the lines\n",
    "        readlines = file.readlines()\n",
    "        with open('amt_sentence_batch.csv', 'r') as amt_batch:\n",
    "            csv_reader = csv.DictReader(amt_batch)\n",
    "            with open('fce_amt.experiment_two.max.rasp.m2', 'w+') as destination:\n",
    "                for row in csv_reader:\n",
    "                    sentence = row['sentence']\n",
    "                    i = 0\n",
    "                    while i < len(readlines):\n",
    "                        if sentence == readlines[i][2:-1]:\n",
    "                            destination.write(readlines[i])\n",
    "                            i += 1\n",
    "                            while readlines[i][0] != 'S' and i < len(readlines):\n",
    "                                destination.writelines(readlines[i])\n",
    "                                i += 1\n",
    "                        else:\n",
    "                            i += 1\n",
    "\n",
    "\n",
    "# get annotations from turkers\n",
    "def get_annotations():\n",
    "    # sentence -> annotations\n",
    "    result_annotations = defaultdict(list)\n",
    "    with open(settings.AMT_FILE) as file:\n",
    "        csv_reader = csv.DictReader(file)\n",
    "        for row in csv_reader:\n",
    "            sentence = row['Input.sentence']\n",
    "            answer = json.loads(row['Answer.ChosenWord'])\n",
    "            for annotation in answer['selectedTokens']:\n",
    "                result_annotations[sentence].append(annotation['start'])\n",
    "    return result_annotations\n",
    "\n",
    "# compare the annotations with gold\n",
    "def compare_annotations(gold_sentences, annotation_labels):\n",
    "    \"\"\"\n",
    "    Produces gold and annotation error detection labels from given annotations and gold data\n",
    "    Args:\n",
    "        gold_sentences: a list  of tuples containing the sentences and the related gold error annotations.\n",
    "        annotation_labels: labels from the annotation representing the start index of the error\n",
    "\n",
    "    Returns:\n",
    "        gold and predicted labels\n",
    "    \"\"\"\n",
    "    gold = []\n",
    "    predicted = []\n",
    "    count = 0\n",
    "    for sentence in gold_sentences:\n",
    "        labels = annotations[sentence[0][1:]]\n",
    "        for label in labels:\n",
    "            counted = 0\n",
    "            error_spans = sentence[1]\n",
    "            if label == - 2 and len(error_spans) == 0:\n",
    "                gold.append(0)\n",
    "                predicted.append(0)\n",
    "                counted = 1\n",
    "            if label == -2 and len(error_spans) > 0:\n",
    "                gold.append(1)\n",
    "                predicted.append(0)\n",
    "                counted = 1\n",
    "            for error_span in error_spans:\n",
    "                if int(label) >= error_span[0] and int(label) < error_span[1]:\n",
    "                    gold.append(1)\n",
    "                    predicted.append(1)\n",
    "                    counted = 1\n",
    "            if (counted == 0):\n",
    "                gold.append(0)\n",
    "                predicted.append(1)\n",
    "                counted = 1\n",
    "    return gold, predicted\n",
    "\n",
    "\n",
    "if __name__ == '__main__':\n",
    "    gold_data = fd.extract_data('fce_amt.experiment_two.max.rasp.m2')\n",
    "    annotations = get_annotations()\n",
    "    gold, predicted = compare_annotations(gold_data, annotations)\n",
    "    print(len(gold))\n",
    "    cm = create_confusion_matrix(gold, predicted)\n",
    "    plot_confusion_matrix_dict(cm, classes=['Error', 'No Error'])\n",
    "    precision_and_recall = full_evaluation_table(cm, classes=['No Error', 'Error'])\n",
    "    print(cm)\n",
    "    precision_and_recall"
   ]
  },
  {
   "cell_type": "code",
   "execution_count": 1,
   "metadata": {
    "collapsed": false
   },
   "outputs": [
    {
     "ename": "NameError",
     "evalue": "name 'precision_and_recall' is not defined",
     "traceback": [
      "\u001b[0;31m---------------------------------------------------------------------------\u001b[0m",
      "\u001b[0;31mNameError\u001b[0m                                 Traceback (most recent call last)",
      "\u001b[0;32m<ipython-input-1-458ca5b1446a>\u001b[0m in \u001b[0;36m<module>\u001b[0;34m()\u001b[0m\n\u001b[0;32m----> 1\u001b[0;31m \u001b[0mprecision_and_recall\u001b[0m\u001b[0;34m\u001b[0m\u001b[0m\n\u001b[0m",
      "\u001b[0;31mNameError\u001b[0m: name 'precision_and_recall' is not defined"
     ],
     "output_type": "error"
    }
   ],
   "source": [
    "precision_and_recall"
   ]
  },
  {
   "cell_type": "code",
   "execution_count": 14,
   "metadata": {
    "collapsed": false
   },
   "outputs": [
    {
     "name": "stdout",
     "output_type": "stream",
     "text": [
      "2\n"
     ]
    }
   ],
   "source": [
    "twod = [[1, 2, 3], [4, 5, 6]]\n",
    "print(len(twod))"
   ]
  },
  {
   "cell_type": "code",
   "execution_count": 15,
   "metadata": {
    "collapsed": false
   },
   "outputs": [
    {
     "data": {
      "text/plain": [
       "[0, 0, 0, 0, 0]"
      ]
     },
     "execution_count": 15,
     "metadata": {},
     "output_type": "execute_result"
    }
   ],
   "source": [
    "[0] * 5"
   ]
  },
  {
   "cell_type": "code",
   "execution_count": null,
   "metadata": {
    "collapsed": true
   },
   "outputs": [],
   "source": [
    ""
   ]
  }
 ],
 "metadata": {
  "kernelspec": {
   "display_name": "Python 3",
   "language": "python",
   "name": "python3"
  },
  "language_info": {
   "codemirror_mode": {
    "name": "ipython",
    "version": 3.0
   },
   "file_extension": ".py",
   "mimetype": "text/x-python",
   "name": "python",
   "nbconvert_exporter": "python",
   "pygments_lexer": "ipython3",
   "version": "3.5.2"
  }
 },
 "nbformat": 4,
 "nbformat_minor": 0
}